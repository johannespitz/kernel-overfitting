{
 "cells": [
  {
   "cell_type": "code",
   "execution_count": 2,
   "metadata": {},
   "outputs": [
    {
     "name": "stderr",
     "output_type": "stream",
     "text": [
      "Using TensorFlow backend.\n",
      "/home/johannes/seminar/kernel-overfitting/eigenpro/training.py:44: Warning: \n",
      "\n",
      "EigenPro-tensorflow has been tested with Keras 2.0.8. If the\n",
      "current version (2.2.4) fails, switch to 2.0.8 by command,\n",
      "\n",
      "\tpip install Keras==2.0.8\n",
      "\n",
      "\n",
      "  '\\tpip install Keras==2.0.8\\n\\n' %(keras.__version__), Warning)\n",
      "/home/johannes/anaconda3/envs/semi/lib/python3.7/site-packages/ipykernel_launcher.py:38: Warning: \n",
      "\n",
      "EigenPro-tensorflow has been tested with Keras 2.0.8. If the\n",
      "current version (2.2.4) fails, switch to 2.0.8 by command,\n",
      "\n",
      "\tpip install Keras==2.0.8\n",
      "\n",
      "\n"
     ]
    }
   ],
   "source": [
    "'''\n",
    "    Modified version of https://github.com/EigenPro/EigenPro-tensorflow\n",
    "    in particular run_expr.py\n",
    "'''\n",
    "\n",
    "from __future__ import print_function\n",
    "\n",
    "import argparse\n",
    "import collections\n",
    "import keras\n",
    "import numpy as np\n",
    "import time\n",
    "import warnings\n",
    "\n",
    "from distutils.version import StrictVersion\n",
    "from keras.layers import Dense, Input\n",
    "from keras.models import Model\n",
    "from keras import backend as K\n",
    "\n",
    "from eigenpro import kernels\n",
    "from eigenpro import mnist\n",
    "from eigenpro import ciphar\n",
    "from eigenpro import synthetic\n",
    "from eigenpro import utils\n",
    "from eigenpro import training\n",
    "\n",
    "from eigenpro.backend_extra import hasGPU\n",
    "from eigenpro.layers import KernelEmbedding, RFF\n",
    "from eigenpro.optimizers import PSGD, SGD\n",
    "\n",
    "assert StrictVersion(keras.__version__) >= StrictVersion('2.0.8'), \\\n",
    "       \"Requires Keras (>=2.0.8).\"\n",
    "\n",
    "if StrictVersion(keras.__version__) > StrictVersion('2.0.8'):\n",
    "    warnings.warn('\\n\\nEigenPro-tensorflow has been tested with Keras 2.0.8. '\n",
    "                   'If the\\ncurrent version (%s) fails, ' \n",
    "                   'switch to 2.0.8 by command,\\n\\n'\n",
    "                   '\\tpip install Keras==2.0.8\\n\\n' %(keras.__version__), Warning)\n",
    "\n",
    "assert keras.backend.backend() == u'tensorflow', \\\n",
    "       \"Requires Tensorflow (>=1.2.1).\"\n",
    "# assert hasGPU(), \"Requires GPU.\""
   ]
  },
  {
   "cell_type": "code",
   "execution_count": 3,
   "metadata": {},
   "outputs": [],
   "source": [
    "# Set the hyper-parameters.\n",
    "bs = 256            # size of the mini-batch\n",
    "M = 4800            # (EigenPro) subsample size\n",
    "k = 160             # (EigenPro) top-k eigensystem\n",
    "\n",
    "dataset = 'MNIST'"
   ]
  },
  {
   "cell_type": "code",
   "execution_count": 4,
   "metadata": {},
   "outputs": [
    {
     "name": "stdout",
     "output_type": "stream",
     "text": [
      "Load MNIST dataset.\n",
      "60000 train samples\n",
      "10000 test samples\n"
     ]
    }
   ],
   "source": [
    "if dataset is 'MNIST':\n",
    "    num_classes = 10  \n",
    "    (x_train, y_train), (x_test, y_test) = mnist.load()\n",
    "elif dataset is 'CIPHAR':\n",
    "    num_classes = 10  \n",
    "    (x_train, y_train), (x_test, y_test) = ciphar.load()\n",
    "elif dataset is 'Synthetic1':\n",
    "    num_classes = 2\n",
    "    (x_train, y_train), (x_test, y_test) = synthetic.load(1)\n",
    "elif dataset is 'Synthetic2':\n",
    "    num_classes = 2\n",
    "    (x_train, y_train), (x_test, y_test) = synthetic.load(2)"
   ]
  },
  {
   "cell_type": "code",
   "execution_count": 5,
   "metadata": {},
   "outputs": [],
   "source": [
    "### NOGPU\n",
    "size = 1000\n",
    "x_train = x_train[0:size]\n",
    "y_train = y_train[0:size]\n",
    "M = 400\n",
    "### NOGPU End\n",
    "\n",
    "n, D = x_train.shape    # (n_sample, n_feature)\n",
    "\n",
    "# convert class vectors to binary class matrices\n",
    "y_train = keras.utils.to_categorical(y_train, num_classes)\n",
    "y_test = keras.utils.to_categorical(y_test, num_classes)"
   ]
  },
  {
   "cell_type": "code",
   "execution_count": 6,
   "metadata": {},
   "outputs": [
    {
     "name": "stdout",
     "output_type": "stream",
     "text": [
      "WARNING:tensorflow:From /home/johannes/anaconda3/envs/semi/lib/python3.7/site-packages/tensorflow/python/framework/op_def_library.py:263: colocate_with (from tensorflow.python.framework.ops) is deprecated and will be removed in a future version.\n",
      "Instructions for updating:\n",
      "Colocations handled automatically by placer.\n",
      "SVD time: 0.30, Eigenvalue ratio: 156.21\n",
      "SVD time: 0.30, Eigenvalue ratio: 499.62\n",
      "\n",
      "WARNING:tensorflow:From /home/johannes/anaconda3/envs/semi/lib/python3.7/site-packages/tensorflow/python/ops/math_ops.py:3066: to_int32 (from tensorflow.python.ops.math_ops) is deprecated and will be removed in a future version.\n",
      "Instructions for updating:\n",
      "Use tf.cast instead.\n",
      "Gauss\t\ttrain error: 1.10%\ttest error: 9.89% (1 epochs, 0.92 seconds)\n",
      "Gauss\t\ttrain error: 0.00%\ttest error: 8.85% (2 epochs, 1.47 seconds)\n",
      "Gauss\t\ttrain error: 0.00%\ttest error: 7.91% (5 epochs, 2.93 seconds)\n",
      "Gauss\t\ttrain error: 0.00%\ttest error: 7.71% (10 epochs, 4.93 seconds)\n",
      "Gauss\t\ttrain error: 0.00%\ttest error: 7.72% (20 epochs, 8.45 seconds)\n",
      "\n",
      "Laplace\t\ttrain error: 2.00%\ttest error: 14.17% (1 epochs, 0.91 seconds)\n",
      "Laplace\t\ttrain error: 0.10%\ttest error: 11.51% (2 epochs, 1.35 seconds)\n",
      "Laplace\t\ttrain error: 0.00%\ttest error: 9.97% (5 epochs, 3.53 seconds)\n",
      "Laplace\t\ttrain error: 0.00%\ttest error: 9.23% (10 epochs, 5.96 seconds)\n",
      "Laplace\t\ttrain error: 0.00%\ttest error: 9.00% (20 epochs, 9.96 seconds)\n"
     ]
    }
   ],
   "source": [
    "trainers = collections.OrderedDict()\n",
    "Trainer = collections.namedtuple('Trainer', ['model', 'x_train', 'x_test', 'tr_scores', 'te_scores'])\n",
    "\n",
    "input_shape = (D+1,) # n_feature, (sample) index\n",
    "ix = Input(shape=input_shape, dtype='float32', name='indexed-feat')\n",
    "x, index = utils.separate_index(ix)\t# features, sample_id\n",
    "\n",
    "## Gauss\n",
    "\n",
    "# Calculate step size and (Primal) EigenPro preconditioner.\n",
    "s = 5   # kernel bandwidth\n",
    "kernel = lambda x,y: kernels.Gaussian(x, y, s)\n",
    "kfeat = KernelEmbedding(kernel, x_train, input_shape=(D,))(x)\n",
    "kf, scale, s0 = utils.asm_eigenpro_f(\n",
    "    x_train, kernel, M, k, 1, in_rkhs=True)\n",
    "eta = np.float32(1.5 / s0) # 1.5 / s0\n",
    "eta = eta * num_classes # correction due to mse loss\n",
    "\n",
    "# Assemble kernel EigenPro trainer.\n",
    "y = Dense(num_classes, input_shape=(n,),\n",
    "          activation='linear',\n",
    "          kernel_initializer='zeros',\n",
    "          use_bias=False)(kfeat)\n",
    "model = Model(ix, y)\n",
    "model.compile(loss='mse',\n",
    "              optimizer=PSGD(pred_t=y,\n",
    "                             index_t=index,\n",
    "                             eta=scale*eta,\n",
    "                             eigenpro_f=lambda g: kf(g, kfeat)),\n",
    "              metrics=['accuracy'])\n",
    "trainers['Gauss'] = Trainer(model=model,\n",
    "                              x_train = utils.add_index(x_train),\n",
    "                              x_test=utils.add_index(x_test),\n",
    "                              tr_scores={},\n",
    "                              te_scores={})\n",
    "\n",
    "\n",
    "## Laplace\n",
    "\n",
    "# Calculate step size and (Primal) EigenPro preconditioner.\n",
    "s = np.float32(10)\n",
    "kernel = lambda x,y: kernels.Laplace(x, y, s)\n",
    "kfeat = KernelEmbedding(kernel, x_train, input_shape=(D,))(x)\n",
    "kf, scale, s0 = utils.asm_eigenpro_f(\n",
    "    x_train, kernel, M, k, 1, in_rkhs=True)\n",
    "eta = np.float32(1.5 / s0) # 1.5 / s0\n",
    "eta = eta * num_classes # correction due to mse loss\n",
    "\n",
    "# Assemble kernel EigenPro trainer.\n",
    "y = Dense(num_classes, input_shape=(n,),\n",
    "          activation='linear',\n",
    "          kernel_initializer='zeros',\n",
    "          use_bias=False)(kfeat)\n",
    "model = Model(ix, y)\n",
    "model.compile(loss='mse',\n",
    "              optimizer=PSGD(pred_t=y,\n",
    "                             index_t=index,\n",
    "                             eta=scale*eta,\n",
    "                             eigenpro_f=lambda g: kf(g, kfeat)),\n",
    "              metrics=['accuracy'])\n",
    "trainers['Laplace'] = Trainer(model=model,\n",
    "                              x_train = utils.add_index(x_train),\n",
    "                              x_test=utils.add_index(x_test),\n",
    "                              tr_scores={},\n",
    "                              te_scores={})\n",
    "\n",
    "\n",
    "\n",
    "# Start training.\n",
    "for name, trainer in trainers.items():   \n",
    "    print(\"\")\n",
    "    initial_epoch=0\n",
    "    np.random.seed(1) # Keras uses numpy random number generator\n",
    "    train_ts = 0 # training time in seconds\n",
    "    for epoch in [1, 2, 5, 10, 20]:\n",
    "        start = time.time()\n",
    "        trainer.model.fit(\n",
    "            trainer.x_train, y_train,\n",
    "            batch_size=bs, epochs=epoch, verbose=0,\n",
    "            validation_data=(trainer.x_test, y_test),\n",
    "            initial_epoch=initial_epoch)\n",
    "        train_ts += time.time() - start\n",
    "        tr_score = trainer.model.evaluate(trainer.x_train, y_train, verbose=0)\n",
    "        te_score = trainer.model.evaluate(trainer.x_test, y_test, verbose=0)\n",
    "        trainer.tr_scores[epoch] = tr_score\n",
    "        trainer.te_scores[epoch] = te_score\n",
    "        print(\"%s\\t\\ttrain error: %.2f%%\\ttest error: %.2f%% (%d epochs, %.2f seconds)\" %\n",
    "              (name, (1 - tr_score[1]) * 100, (1 - te_score[1]) * 100, epoch, train_ts))\n",
    "        initial_epoch = epoch"
   ]
  },
  {
   "cell_type": "code",
   "execution_count": 7,
   "metadata": {},
   "outputs": [],
   "source": [
    "trainers_dict = {}\n",
    "\n",
    "for name, trainer in  trainers.items():  \n",
    "    \n",
    "    trainers_dict[name] = {'tr_scores': trainer.tr_scores, 'te_scores': trainer.te_scores}    \n",
    "    \n",
    "    if name is 'Gauss':\n",
    "        s = 5\n",
    "        kernel = lambda x,y: training.Gaussian(x, y, s)\n",
    "    else:\n",
    "        s = 10\n",
    "        kernel = lambda x,y: training.Laplace(x, y, s) \n",
    "        \n",
    "    K = kernel(x_train, x_train)\n",
    "    alpha_lin = np.linalg.solve(K, y_train)    \n",
    "    pred_train = K.T.dot(alpha_lin)    \n",
    "    \n",
    "    y = y_train\n",
    "    mse = (np.square(pred_train - y)).mean(axis=None)\n",
    "    miss = np.count_nonzero(np.argmax(pred_train, axis=1) - np.argmax(y, axis=1)) / y.shape[0]\n",
    "    trainers_dict[name]['lin_train_mse'] = mse\n",
    "    trainers_dict[name]['lin_train_ce'] = miss\n",
    "    \n",
    "    \n",
    "    testK = kernel(x_train, x_test)\n",
    "    pred_test = testK.T.dot(alpha_lin)\n",
    "    \n",
    "    y = y_test\n",
    "    mse = (np.square(pred_test - y)).mean(axis=None)\n",
    "    miss = np.count_nonzero(np.argmax(pred_test, axis=1) - np.argmax(y, axis=1)) / y.shape[0]  \n",
    "    trainers_dict[name]['lin_test_mse'] = mse\n",
    "    trainers_dict[name]['lin_test_ce'] = miss\n",
    "\n",
    "trainers_dict\n",
    "\n",
    "with open('output/figure1' + dataset + '-' + time.strftime(\"%Y%m%d-%H%M%S\") + '.txt', 'w') as f:\n",
    "    print(trainers_dict, file=f)"
   ]
  },
  {
   "cell_type": "code",
   "execution_count": 8,
   "metadata": {},
   "outputs": [
    {
     "data": {
      "text/plain": [
       "{'Gauss': {'tr_scores': {1: [0.01216489953547716, 0.989],\n",
       "   2: [0.005671584781259298, 1.0],\n",
       "   5: [0.0013807735424488782, 1.0],\n",
       "   10: [0.00028793091443367303, 1.0],\n",
       "   20: [4.1342297190567476e-05, 1.0]},\n",
       "  'te_scores': {1: [0.027332050225138665, 0.9011],\n",
       "   2: [0.02348214246034622, 0.9115],\n",
       "   5: [0.021435677435994147, 0.9209],\n",
       "   10: [0.02081791154369712, 0.9229],\n",
       "   20: [0.020627705762535333, 0.9228]},\n",
       "  'lin_train_mse': 1.3588872e-13,\n",
       "  'lin_train_ce': 0.0,\n",
       "  'lin_test_mse': 0.020540396,\n",
       "  'lin_test_ce': 0.0784},\n",
       " 'Laplace': {'tr_scores': {1: [0.02723619595170021, 0.98],\n",
       "   2: [0.013677788898348808, 0.999],\n",
       "   5: [0.0034702620562165973, 1.0],\n",
       "   10: [0.0005864836974069476, 1.0],\n",
       "   20: [3.020493226358667e-05, 1.0]},\n",
       "  'te_scores': {1: [0.04256515776515007, 0.8583],\n",
       "   2: [0.03348366622626781, 0.8849],\n",
       "   5: [0.02742201258391142, 0.9003],\n",
       "   10: [0.02544576589167118, 0.9077],\n",
       "   20: [0.024831237389147283, 0.91]},\n",
       "  'lin_train_mse': 5.3828735e-13,\n",
       "  'lin_train_ce': 0.0,\n",
       "  'lin_test_mse': 0.024726693,\n",
       "  'lin_test_ce': 0.0892}}"
      ]
     },
     "execution_count": 8,
     "metadata": {},
     "output_type": "execute_result"
    }
   ],
   "source": [
    "# trainers_dict = eval(open('figure1MNIST.txt', 'r').read())\n",
    "trainers_dict"
   ]
  },
  {
   "cell_type": "code",
   "execution_count": 10,
   "metadata": {},
   "outputs": [
    {
     "name": "stdout",
     "output_type": "stream",
     "text": [
      "MNIST\n"
     ]
    },
    {
     "data": {
      "image/png": "[encoded data removed]",
      "text/plain": [
       "<Figure size 432x288 with 1 Axes>"
      ]
     },
     "metadata": {
      "needs_background": "light"
     },
     "output_type": "display_data"
    },
    {
     "data": {
      "image/png": "[encoded data removed]",
      "text/plain": [
       "<Figure size 432x288 with 1 Axes>"
      ]
     },
     "metadata": {
      "needs_background": "light"
     },
     "output_type": "display_data"
    },
    {
     "data": {
      "image/png": "[encoded data removed]",
      "text/plain": [
       "<Figure size 432x288 with 1 Axes>"
      ]
     },
     "metadata": {
      "needs_background": "light"
     },
     "output_type": "display_data"
    }
   ],
   "source": [
    "import matplotlib.pyplot as plt\n",
    "ax = plt.gca()\n",
    "\n",
    "print(dataset)\n",
    "\n",
    "for name, trainer in trainers_dict.items():  \n",
    "    \n",
    "    dic = trainer['te_scores']\n",
    "    \n",
    "    epoch = [x for x in dic.keys()]\n",
    "    mse   = [x[0] for x in dic.values()]\n",
    "    miss  = [(1 - x[1]) * 100 for x in dic.values()]\n",
    "\n",
    "    color = next(ax._get_lines.prop_cycler)['color']\n",
    "    plt.plot(epoch, miss, label=name + ', EigenPro', color=color)      \n",
    "    plt.axhline(y=trainer['lin_test_ce'] * 100, label=name + ', Interpolation', linestyle='--', color=color)\n",
    "\n",
    "plt.xlabel('Epochs')\n",
    "plt.ylabel('Missclassification Val')\n",
    "plt.legend(loc='upper right')\n",
    "plt.show()\n",
    "\n",
    "ax.set_prop_cycle(None)\n",
    "\n",
    "for name, trainer in trainers_dict.items():  \n",
    "    \n",
    "    dic = trainer['te_scores']\n",
    "    \n",
    "    epoch = [x for x in dic.keys()]\n",
    "    mse   = [x[0] for x in dic.values()]\n",
    "    miss  = [x[1] for x in dic.values()]\n",
    "\n",
    "    color = next(ax._get_lines.prop_cycler)['color']\n",
    "    plt.plot(epoch, mse, label=name + ', EigenPro', color=color) \n",
    "    plt.axhline(y=trainer['lin_test_mse'], label=name + ', Interpolation', linestyle='--', color=color)\n",
    "    \n",
    "plt.xlabel('Epochs')\n",
    "plt.ylabel('MSE Val')\n",
    "plt.legend(loc='upper right')\n",
    "plt.show()\n",
    "\n",
    "ax.set_prop_cycle(None)\n",
    "\n",
    "for name, trainer in trainers_dict.items():  \n",
    "    \n",
    "    dic = trainer['tr_scores']\n",
    "    \n",
    "    epoch = [x for x in dic.keys()]\n",
    "    mse   = [x[0] for x in dic.values()]\n",
    "    miss  = [x[1] for x in dic.values()]\n",
    "\n",
    "    color = next(ax._get_lines.prop_cycler)['color']\n",
    "    plt.plot(epoch, mse, label=name + ', EigenPro', color=color) \n",
    "    plt.axhline(y=trainer['lin_train_mse'], label=name + ', Interpolation', linestyle='--', color=color)\n",
    "    \n",
    "plt.xlabel('Epochs')\n",
    "plt.ylabel('MSE Train')\n",
    "plt.legend(loc='upper right')\n",
    "plt.show()\n"
   ]
  },
  {
   "cell_type": "code",
   "execution_count": 9,
   "metadata": {},
   "outputs": [],
   "source": [
    "# del trainers\n",
    "utils.reset()"
   ]
  },
  {
   "cell_type": "code",
   "execution_count": null,
   "metadata": {},
   "outputs": [],
   "source": []
  }
 ],
 "metadata": {
  "kernelspec": {
   "display_name": "semi",
   "language": "python",
   "name": "semi"
  },
  "language_info": {
   "codemirror_mode": {
    "name": "ipython",
    "version": 3
   },
   "file_extension": ".py",
   "mimetype": "text/x-python",
   "name": "python",
   "nbconvert_exporter": "python",
   "pygments_lexer": "ipython3",
   "version": "3.7.3"
  }
 },
 "nbformat": 4,
 "nbformat_minor": 2
}

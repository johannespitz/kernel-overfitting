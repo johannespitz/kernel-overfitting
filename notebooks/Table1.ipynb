{
 "cells": [
  {
   "cell_type": "code",
   "execution_count": 1,
   "metadata": {
    "scrolled": true
   },
   "outputs": [],
   "source": [
    "dataset_dict = {}\n",
    "dataset_dict['MNIST'] = None\n",
    "dataset_dict['CIPHAR'] = None\n",
    "dataset_dict['Synthetic1'] = None\n",
    "dataset_dict['Synthetic2'] = None\n",
    "\n",
    "kernel_dict = {}\n",
    "kernel_dict[\"Gaussian\"] = None\n",
    "kernel_dict[\"Laplace\"] = None\n",
    "\n",
    "size_list = [10000] \n",
    "\n",
    "noise_list = [0, 100]"
   ]
  },
  {
   "cell_type": "code",
   "execution_count": 2,
   "metadata": {},
   "outputs": [
    {
     "data": {
      "text/plain": [
       "{'D:MNIST K:Gaussian S:30000 N:0': {'dataset': 'MNIST',\n",
       "  'kernel': 'Gaussian',\n",
       "  'size': 30000,\n",
       "  'noise': 0,\n",
       "  'sgd_ce': 0.015499999999999958,\n",
       "  'iterations': 8},\n",
       " 'D:MNIST K:Gaussian S:30000 N:100': {'dataset': 'MNIST',\n",
       "  'kernel': 'Gaussian',\n",
       "  'size': 30000,\n",
       "  'noise': 100,\n",
       "  'sgd_ce': 0.9048,\n",
       "  'iterations': 999999},\n",
       " 'D:MNIST K:Laplace S:30000 N:0': {'dataset': 'MNIST',\n",
       "  'kernel': 'Laplace',\n",
       "  'size': 30000,\n",
       "  'noise': 0,\n",
       "  'sgd_ce': 0.02200000000000002,\n",
       "  'iterations': 3},\n",
       " 'D:MNIST K:Laplace S:30000 N:100': {'dataset': 'MNIST',\n",
       "  'kernel': 'Laplace',\n",
       "  'size': 30000,\n",
       "  'noise': 100,\n",
       "  'sgd_ce': 0.9006,\n",
       "  'iterations': 7},\n",
       " 'D:CIPHAR K:Gaussian S:30000 N:0': {'dataset': 'CIPHAR',\n",
       "  'kernel': 'Gaussian',\n",
       "  'size': 30000,\n",
       "  'noise': 0,\n",
       "  'sgd_ce': 0.5866,\n",
       "  'iterations': 999999},\n",
       " 'D:CIPHAR K:Gaussian S:30000 N:100': {'dataset': 'CIPHAR',\n",
       "  'kernel': 'Gaussian',\n",
       "  'size': 30000,\n",
       "  'noise': 100,\n",
       "  'sgd_ce': 0.9026,\n",
       "  'iterations': 999999},\n",
       " 'D:CIPHAR K:Laplace S:30000 N:0': {'dataset': 'CIPHAR',\n",
       "  'kernel': 'Laplace',\n",
       "  'size': 30000,\n",
       "  'noise': 0,\n",
       "  'sgd_ce': 0.5251,\n",
       "  'iterations': 5},\n",
       " 'D:CIPHAR K:Laplace S:30000 N:100': {'dataset': 'CIPHAR',\n",
       "  'kernel': 'Laplace',\n",
       "  'size': 30000,\n",
       "  'noise': 100,\n",
       "  'sgd_ce': 0.8972,\n",
       "  'iterations': 5},\n",
       " 'D:Synthetic1 K:Gaussian S:30000 N:0': {'dataset': 'Synthetic1',\n",
       "  'kernel': 'Gaussian',\n",
       "  'size': 30000,\n",
       "  'noise': 0,\n",
       "  'sgd_ce': 0.0,\n",
       "  'iterations': 1},\n",
       " 'D:Synthetic1 K:Gaussian S:30000 N:100': {'dataset': 'Synthetic1',\n",
       "  'kernel': 'Gaussian',\n",
       "  'size': 30000,\n",
       "  'noise': 100,\n",
       "  'sgd_ce': 0.498,\n",
       "  'iterations': 106},\n",
       " 'D:Synthetic1 K:Laplace S:30000 N:0': {'dataset': 'Synthetic1',\n",
       "  'kernel': 'Laplace',\n",
       "  'size': 30000,\n",
       "  'noise': 0,\n",
       "  'sgd_ce': 0.0,\n",
       "  'iterations': 1},\n",
       " 'D:Synthetic1 K:Laplace S:30000 N:100': {'dataset': 'Synthetic1',\n",
       "  'kernel': 'Laplace',\n",
       "  'size': 30000,\n",
       "  'noise': 100,\n",
       "  'sgd_ce': 0.5005,\n",
       "  'iterations': 4},\n",
       " 'D:Synthetic2 K:Gaussian S:30000 N:0': {'dataset': 'Synthetic2',\n",
       "  'kernel': 'Gaussian',\n",
       "  'size': 30000,\n",
       "  'noise': 0,\n",
       "  'sgd_ce': 0.23470000000000002,\n",
       "  'iterations': 205},\n",
       " 'D:Synthetic2 K:Gaussian S:30000 N:100': {'dataset': 'Synthetic2',\n",
       "  'kernel': 'Gaussian',\n",
       "  'size': 30000,\n",
       "  'noise': 100,\n",
       "  'sgd_ce': 0.4952,\n",
       "  'iterations': 269},\n",
       " 'D:Synthetic2 K:Laplace S:30000 N:0': {'dataset': 'Synthetic2',\n",
       "  'kernel': 'Laplace',\n",
       "  'size': 30000,\n",
       "  'noise': 0,\n",
       "  'sgd_ce': 0.16800000000000004,\n",
       "  'iterations': 5},\n",
       " 'D:Synthetic2 K:Laplace S:30000 N:100': {'dataset': 'Synthetic2',\n",
       "  'kernel': 'Laplace',\n",
       "  'size': 30000,\n",
       "  'noise': 100,\n",
       "  'sgd_ce': 0.5025999999999999,\n",
       "  'iterations': 4}}"
      ]
     },
     "execution_count": 2,
     "metadata": {},
     "output_type": "execute_result"
    }
   ],
   "source": [
    "import glob\n",
    "files = glob.glob(\"../output/table1*.txt\")\n",
    "files.sort()\n",
    "\n",
    "filename = files[-1]\n",
    "\n",
    "trainers = eval(open(filename, 'r').read())\n",
    "trainers"
   ]
  },
  {
   "cell_type": "code",
   "execution_count": 3,
   "metadata": {},
   "outputs": [
    {
     "name": "stdout",
     "output_type": "stream",
     "text": [
      "8\tMNIST Gaussian 0\n",
      "999999\tMNIST Gaussian 100\n",
      "3\tMNIST Laplace 0\n",
      "7\tMNIST Laplace 100\n",
      "999999\tCIPHAR Gaussian 0\n",
      "999999\tCIPHAR Gaussian 100\n",
      "5\tCIPHAR Laplace 0\n",
      "5\tCIPHAR Laplace 100\n",
      "1\tSynthetic1 Gaussian 0\n",
      "106\tSynthetic1 Gaussian 100\n",
      "1\tSynthetic1 Laplace 0\n",
      "4\tSynthetic1 Laplace 100\n",
      "205\tSynthetic2 Gaussian 0\n",
      "269\tSynthetic2 Gaussian 100\n",
      "5\tSynthetic2 Laplace 0\n",
      "4\tSynthetic2 Laplace 100\n"
     ]
    }
   ],
   "source": [
    "# Table\n",
    "\n",
    "for name, trainer in trainers.items(): \n",
    "    \n",
    "    print(str(trainer['iterations']) + '\\t' + trainer['dataset'] + ' ' + trainer['kernel'] + ' ' \n",
    "          +  str(trainer['noise']))"
   ]
  },
  {
   "cell_type": "code",
   "execution_count": 4,
   "metadata": {},
   "outputs": [],
   "source": [
    "# del trainers"
   ]
  }
 ],
 "metadata": {
  "kernelspec": {
   "display_name": "semi",
   "language": "python",
   "name": "semi"
  },
  "language_info": {
   "codemirror_mode": {
    "name": "ipython",
    "version": 3
   },
   "file_extension": ".py",
   "mimetype": "text/x-python",
   "name": "python",
   "nbconvert_exporter": "python",
   "pygments_lexer": "ipython3",
   "version": "3.7.3"
  }
 },
 "nbformat": 4,
 "nbformat_minor": 2
}
